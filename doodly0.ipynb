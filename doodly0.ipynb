{
 "cells": [
  {
   "cell_type": "code",
   "execution_count": 1,
   "metadata": {
    "id": "znrV7P-iBN6l"
   },
   "outputs": [],
   "source": [
    "import pandas as pd\n",
    "import numpy as np\n",
    "import matplotlib.pyplot as plt"
   ]
  },
  {
   "cell_type": "code",
   "execution_count": 3,
   "metadata": {
    "id": "0lmPcXoaBVtk"
   },
   "outputs": [],
   "source": [
    "train_data=open(\"/content/train14.txt\",mode='r').readlines()\n",
    "val_data=open(\"/content/val.txt\", mode='r').readlines()\n",
    "test_data=open(\"/content/test.txt\",mode='r').readlines()"
   ]
  },
  {
   "cell_type": "code",
   "execution_count": 6,
   "metadata": {
    "id": "g_9jSm7Jfa9G"
   },
   "outputs": [],
   "source": [
    "import re\n",
    "def data_preprocessing(dataset):\n",
    "    text=[]\n",
    "    mood=[]\n",
    "    for i in range(len(dataset)):\n",
    "        a1=dataset[i].split(\";\")[0]\n",
    "        a2=dataset[i].split(\";\")[1]\n",
    "        a3=re.findall(\"^\\w+\",a2)[0]\n",
    "        text.append(a1)\n",
    "        mood.append(a3)\n",
    "    return  text ,mood"
   ]
  },
  {
   "cell_type": "code",
   "execution_count": 7,
   "metadata": {
    "colab": {
     "base_uri": "https://localhost:8080/"
    },
    "id": "ld5MspSbgHKP",
    "outputId": "42401d22-3157-4835-f9ea-683948fca723"
   },
   "outputs": [
    {
     "name": "stdout",
     "output_type": "stream",
     "text": [
      "******\n",
      "16000\n",
      "*******\n",
      "16000\n",
      "*****\n",
      "{'joy', 'sadness', 'anger', 'fear', 'love', 'surprise'}\n"
     ]
    }
   ],
   "source": [
    "train_text,train_mood=data_preprocessing(train_data)\n",
    "print(\"******\")\n",
    "print(len(train_text))\n",
    "print(\"*******\")\n",
    "print(len(train_mood))\n",
    "print(\"*****\")\n",
    "print(set(train_mood))"
   ]
  },
  {
   "cell_type": "code",
   "execution_count": 8,
   "metadata": {
    "colab": {
     "base_uri": "https://localhost:8080/"
    },
    "id": "suEnexZ4hA0C",
    "outputId": "d053b7bf-6a41-457b-cbaa-da2014d4001b"
   },
   "outputs": [
    {
     "name": "stdout",
     "output_type": "stream",
     "text": [
      "********\n",
      "2000\n",
      "*******\n",
      "2000\n",
      "******\n",
      "{'love', 'sadness', 'anger', 'fear', 'joy', 'surprise'}\n"
     ]
    }
   ],
   "source": [
    "val_text,val_mood=data_preprocessing(val_data)\n",
    "print(\"********\")\n",
    "print(len(val_text))\n",
    "print(\"*******\")\n",
    "print(len(val_mood))\n",
    "print(\"******\")\n",
    "print(set(val_mood))"
   ]
  },
  {
   "cell_type": "code",
   "execution_count": 9,
   "metadata": {
    "colab": {
     "base_uri": "https://localhost:8080/"
    },
    "id": "M7S9tYJrhbo3",
    "outputId": "3ef1ace6-4452-415d-d84c-89a0edb4df63"
   },
   "outputs": [
    {
     "name": "stdout",
     "output_type": "stream",
     "text": [
      "********\n",
      "2000\n",
      "*******\n",
      "2000\n",
      "******\n",
      "{'joy', 'sadness', 'anger', 'fear', 'love', 'surprise'}\n"
     ]
    }
   ],
   "source": [
    "test_text,test_mood=data_preprocessing(test_data)\n",
    "print(\"********\")\n",
    "print(len(test_text))\n",
    "print(\"*******\")\n",
    "print(len(test_mood))\n",
    "print(\"******\")\n",
    "print(set(test_mood))"
   ]
  },
  {
   "cell_type": "code",
   "execution_count": 21,
   "metadata": {
    "id": "WZULLsLhiI5_"
   },
   "outputs": [],
   "source": [
    "#sentiment #Joy, Sad,Happy, Anger, Frustration\n",
    "#1 = positive sentiment\n",
    "#0 = negative sentiemnt\n",
    "def label_create(moods):\n",
    "    labels=[]\n",
    "    for i in moods:\n",
    "        if i==\"Joy\"or i==\"love\" or i==\"surprise\":\n",
    "            labels.append(1)\n",
    "        else:\n",
    "            labels.append(0)\n",
    "    return labels\n"
   ]
  },
  {
   "cell_type": "code",
   "execution_count": 11,
   "metadata": {
    "colab": {
     "base_uri": "https://localhost:8080/"
    },
    "id": "73IhE90iixCV",
    "outputId": "7cac6a8d-f9cc-4911-c8d2-89dd7d797153"
   },
   "outputs": [
    {
     "name": "stdout",
     "output_type": "stream",
     "text": [
      "16000\n",
      "********\n",
      "2000\n",
      "********\n",
      "2000\n"
     ]
    }
   ],
   "source": [
    "train_labels=label_create(train_mood)\n",
    "print(len(train_labels))\n",
    "print(\"********\")\n",
    "val_labels=label_create(val_mood)\n",
    "print(len(val_labels))\n",
    "print(\"********\")\n",
    "test_labels=label_create(test_mood)\n",
    "print(len(test_labels))"
   ]
  },
  {
   "cell_type": "code",
   "execution_count": 12,
   "metadata": {
    "id": "OCCzLnX6BcO6"
   },
   "outputs": [],
   "source": [
    "train_id=[]\n",
    "val_id=[]\n",
    "test_id=[]\n",
    "for i in range(0,len(train_data)):\n",
    "    train_id.append(i)\n",
    "for j in range(len(train_data),len(train_data)+len(val_data)):\n",
    "    val_id.append(j)\n",
    "for k in range(len(train_data)+len(val_data),len(train_data)+len(val_data)+len(test_data)):\n",
    "    test_id.append(k)"
   ]
  },
  {
   "cell_type": "code",
   "execution_count": 13,
   "metadata": {
    "colab": {
     "base_uri": "https://localhost:8080/"
    },
    "id": "aekZY565lyLg",
    "outputId": "8df7aac0-ca24-411c-8df0-f171680b6bf8"
   },
   "outputs": [
    {
     "name": "stdout",
     "output_type": "stream",
     "text": [
      "16000\n",
      "*******\n",
      "2000\n",
      "*********\n",
      "2000\n",
      "*******\n"
     ]
    }
   ],
   "source": [
    "print(len(train_id))\n",
    "print(\"*******\")\n",
    "print(len(val_id))\n",
    "print(\"*********\")\n",
    "print(len(test_id))\n",
    "print(\"*******\")"
   ]
  },
  {
   "cell_type": "code",
   "execution_count": 28,
   "metadata": {
    "colab": {
     "base_uri": "https://localhost:8080/"
    },
    "id": "-mToBEOZBcZA",
    "outputId": "6571c8c8-5984-4b54-a529-b99ed3e1882a"
   },
   "outputs": [
    {
     "name": "stdout",
     "output_type": "stream",
     "text": [
      "(16000, 3)\n",
      "   ID                                               text     mood\n",
      "0   0                            i didnt feel humiliated  sadness\n",
      "1   1  i can go from feeling so hopeless to so damned...  sadness\n",
      "2   2   im grabbing a minute to post i feel greedy wrong    anger\n",
      "3   3  i am ever feeling nostalgic about the fireplac...     love\n",
      "4   4                               i am feeling grouchy    anger\n"
     ]
    }
   ],
   "source": [
    "train_data1=pd.DataFrame(list(zip(train_id,train_text,train_mood)),columns=[\"ID\",\"text\",\"mood\"])\n",
    "print(train_data1.shape)\n",
    "print(train_data1.head(5))"
   ]
  },
  {
   "cell_type": "code",
   "execution_count": 27,
   "metadata": {
    "colab": {
     "base_uri": "https://localhost:8080/"
    },
    "id": "Q6RWhnIs1agI",
    "outputId": "578ac395-a08a-45bd-fc0f-42398870da96"
   },
   "outputs": [
    {
     "name": "stdout",
     "output_type": "stream",
     "text": [
      "(2000, 3)\n",
      "      ID                                               text     mood\n",
      "0  16000  im feeling quite sad and sorry for myself but ...  sadness\n",
      "1  16001  i feel like i am still looking at a blank canv...  sadness\n",
      "2  16002                     i feel like a faithful servant     love\n",
      "3  16003                  i am just feeling cranky and blue    anger\n",
      "4  16004  i can have for a treat or if i am feeling festive      joy\n"
     ]
    }
   ],
   "source": [
    "val_data1=pd.DataFrame(list(zip(val_id,val_text,val_mood)),columns=[\"ID\",\"text\",\"mood\"])\n",
    "print(val_data1.shape)\n",
    "print(val_data1.head(5))"
   ]
  },
  {
   "cell_type": "code",
   "execution_count": 29,
   "metadata": {
    "colab": {
     "base_uri": "https://localhost:8080/"
    },
    "id": "jva4lK5h1ai9",
    "outputId": "7ddbdbe4-ed45-4a47-bb04-8b6799759505"
   },
   "outputs": [
    {
     "name": "stdout",
     "output_type": "stream",
     "text": [
      "(2000, 3)\n",
      "      ID                                               text     mood\n",
      "0  18000  im feeling rather rotten so im not very ambiti...  sadness\n",
      "1  18001          im updating my blog because i feel shitty  sadness\n",
      "2  18002  i never make her separate from me because i do...  sadness\n",
      "3  18003  i left with my bouquet of red and yellow tulip...      joy\n",
      "4  18004    i was feeling a little vain when i did this one  sadness\n"
     ]
    }
   ],
   "source": [
    "test_data1=pd.DataFrame(list(zip(test_id,test_text,test_mood)),columns=[\"ID\",\"text\",\"mood\"])\n",
    "print(test_data1.shape)\n",
    "print(test_data1.head(5))"
   ]
  },
  {
   "cell_type": "code",
   "execution_count": 20,
   "metadata": {
    "colab": {
     "base_uri": "https://localhost:8080/"
    },
    "id": "298p6bVv1alr",
    "outputId": "cc687e36-791c-4887-ba64-e988516d5690"
   },
   "outputs": [
    {
     "data": {
      "text/plain": [
       "0"
      ]
     },
     "execution_count": 20,
     "metadata": {},
     "output_type": "execute_result"
    }
   ],
   "source": [
    "test_labels[0]"
   ]
  },
  {
   "cell_type": "markdown",
   "metadata": {
    "id": "2ebjKDBZ2t6C"
   },
   "source": [
    "#vectorizing text data"
   ]
  },
  {
   "cell_type": "code",
   "execution_count": 30,
   "metadata": {
    "id": "Q9zmWz_S1aoF"
   },
   "outputs": [],
   "source": [
    "import tensorflow as tf\n",
    "from tensorflow import keras\n",
    "from tensorflow.keras.preprocessing.text import Tokenizer"
   ]
  },
  {
   "cell_type": "code",
   "execution_count": 31,
   "metadata": {
    "id": "A5yZb0hT1aqy"
   },
   "outputs": [],
   "source": [
    "tokenizer=Tokenizer(oov_token=\"<oov>\")"
   ]
  },
  {
   "cell_type": "code",
   "execution_count": 32,
   "metadata": {
    "id": "smcU8iYJ6m7Y"
   },
   "outputs": [],
   "source": [
    "tokenizer.fit_on_texts(train_text)\n",
    "word_index=tokenizer.word_index"
   ]
  },
  {
   "cell_type": "code",
   "execution_count": 33,
   "metadata": {
    "colab": {
     "base_uri": "https://localhost:8080/"
    },
    "id": "YDunHNPNBcb0",
    "outputId": "fd325ec3-cd7f-495e-f33c-b360131c6595"
   },
   "outputs": [
    {
     "data": {
      "text/plain": [
       "15213"
      ]
     },
     "execution_count": 33,
     "metadata": {},
     "output_type": "execute_result"
    }
   ],
   "source": [
    "len(word_index)"
   ]
  },
  {
   "cell_type": "code",
   "execution_count": 34,
   "metadata": {
    "id": "GqqN7xU762_M"
   },
   "outputs": [],
   "source": [
    "x_train_sequence=tokenizer.texts_to_sequences(train_text)\n",
    "x_val_sequence=tokenizer.texts_to_sequences(val_text)\n",
    "x_test_sequence=tokenizer.texts_to_sequences(test_text)"
   ]
  },
  {
   "cell_type": "code",
   "execution_count": 35,
   "metadata": {
    "id": "E8FA_R-L63Ct"
   },
   "outputs": [],
   "source": [
    "len11=[] # observing what are the lengths of sequence and according to that will select maxlen\n",
    "for i in x_train_sequence:\n",
    "    len11.append(len(i))"
   ]
  },
  {
   "cell_type": "code",
   "execution_count": 37,
   "metadata": {
    "colab": {
     "base_uri": "https://localhost:8080/"
    },
    "id": "XO72aa2e63Gn",
    "outputId": "d80c68f0-62da-41e4-b58d-288110489119"
   },
   "outputs": [
    {
     "name": "stdout",
     "output_type": "stream",
     "text": [
      "16000\n"
     ]
    }
   ],
   "source": [
    "print(len(len11))"
   ]
  },
  {
   "cell_type": "code",
   "execution_count": 38,
   "metadata": {
    "colab": {
     "base_uri": "https://localhost:8080/"
    },
    "id": "cxkbke8063JP",
    "outputId": "2109199e-0ab5-4644-c3e2-cdede96da099"
   },
   "outputs": [
    {
     "data": {
      "text/plain": [
       "66"
      ]
     },
     "execution_count": 38,
     "metadata": {},
     "output_type": "execute_result"
    }
   ],
   "source": [
    "max(len11)"
   ]
  },
  {
   "cell_type": "code",
   "execution_count": 39,
   "metadata": {
    "colab": {
     "base_uri": "https://localhost:8080/"
    },
    "id": "OIEvpeR163Mh",
    "outputId": "15ed62c4-1da7-4af3-ea4b-4f7d71016c20"
   },
   "outputs": [
    {
     "data": {
      "text/plain": [
       "35.0"
      ]
     },
     "execution_count": 39,
     "metadata": {},
     "output_type": "execute_result"
    }
   ],
   "source": [
    "np.percentile(len11,90) #90 percentile value of different lengths"
   ]
  },
  {
   "cell_type": "code",
   "execution_count": 40,
   "metadata": {
    "colab": {
     "base_uri": "https://localhost:8080/"
    },
    "id": "TuHoFhAf63O0",
    "outputId": "4bbf8410-0961-446e-976f-560c57a5a307"
   },
   "outputs": [
    {
     "name": "stdout",
     "output_type": "stream",
     "text": [
      "[  0  10  20  30  40  50  60  70  80  90 100]\n",
      "***********\n",
      "[ 2.  7.  9. 12. 14. 17. 20. 23. 28. 35. 66.]\n"
     ]
    }
   ],
   "source": [
    "print(np.arange(0,110,10))\n",
    "print(\"***********\")\n",
    "print(np.percentile(len11,np.arange(0,110,10)))"
   ]
  },
  {
   "cell_type": "code",
   "execution_count": 41,
   "metadata": {
    "colab": {
     "base_uri": "https://localhost:8080/"
    },
    "id": "brBro2Gn63Rw",
    "outputId": "d4b788d2-95d4-403d-e7c8-72bd782ecf3a"
   },
   "outputs": [
    {
     "name": "stdout",
     "output_type": "stream",
     "text": [
      "[35. 36. 37. 38. 39. 41. 43. 45. 48. 52. 66.]\n"
     ]
    }
   ],
   "source": [
    "print(np.percentile(len11,np.arange(90,101,1)))"
   ]
  },
  {
   "cell_type": "markdown",
   "metadata": {
    "id": "2YrpKAyd8P6s"
   },
   "source": [
    "#99.99% of the texts have 52 as there length so we will take it as it is"
   ]
  },
  {
   "cell_type": "code",
   "execution_count": 42,
   "metadata": {
    "id": "yRu6rLT163Ug"
   },
   "outputs": [],
   "source": [
    "from tensorflow.keras.preprocessing.sequence import pad_sequences\n",
    "x_train_padded=pad_sequences(x_train_sequence,maxlen=52,padding='post',truncating=\"post\")\n",
    "x_val_padded=pad_sequences(x_val_sequence,maxlen=52,padding='post',truncating=\"post\")\n",
    "x_test_padded=pad_sequences(x_test_sequence,maxlen=52,padding='post',truncating='post')"
   ]
  },
  {
   "cell_type": "code",
   "execution_count": 43,
   "metadata": {
    "colab": {
     "base_uri": "https://localhost:8080/"
    },
    "id": "ij7CF_qx63Xp",
    "outputId": "d5f7d141-7690-481d-9b8b-92b0fb62b77a"
   },
   "outputs": [
    {
     "name": "stdout",
     "output_type": "stream",
     "text": [
      "(16000, 52)\n",
      "********\n",
      "(2000, 52)\n",
      "*********\n",
      "(2000, 52)\n"
     ]
    }
   ],
   "source": [
    "print(x_train_padded.shape)\n",
    "print(\"********\")\n",
    "print(x_val_padded.shape)\n",
    "print(\"*********\")\n",
    "print(x_test_padded.shape)"
   ]
  },
  {
   "cell_type": "markdown",
   "metadata": {
    "id": "XgZMy-Z09cpI"
   },
   "source": [
    "#encoding numerical feature"
   ]
  },
  {
   "cell_type": "code",
   "execution_count": 47,
   "metadata": {
    "id": "7yGgTk3u63aZ"
   },
   "outputs": [],
   "source": [
    "from sklearn.feature_extraction.text import CountVectorizer"
   ]
  },
  {
   "cell_type": "code",
   "execution_count": 48,
   "metadata": {
    "colab": {
     "base_uri": "https://localhost:8080/"
    },
    "id": "zhUESWxv9m1g",
    "outputId": "2ca80a1f-9e28-4a98-8f50-fdf7e1728e03"
   },
   "outputs": [
    {
     "data": {
      "text/plain": [
       "CountVectorizer(analyzer='word', binary=False, decode_error='strict',\n",
       "                dtype=<class 'numpy.int64'>, encoding='utf-8', input='content',\n",
       "                lowercase=True, max_df=1.0, max_features=None, min_df=1,\n",
       "                ngram_range=(1, 1), preprocessor=None, stop_words=None,\n",
       "                strip_accents=None, token_pattern='(?u)\\\\b\\\\w\\\\w+\\\\b',\n",
       "                tokenizer=None, vocabulary=None)"
      ]
     },
     "execution_count": 48,
     "metadata": {},
     "output_type": "execute_result"
    }
   ],
   "source": [
    "vectorizer_mood =  CountVectorizer()\n",
    "vectorizer_mood.fit(train_data1[\"mood\"].values) #fit has to happen only on train data"
   ]
  },
  {
   "cell_type": "code",
   "execution_count": 49,
   "metadata": {
    "colab": {
     "base_uri": "https://localhost:8080/"
    },
    "id": "0q1ufXJ8-HeD",
    "outputId": "bc7a1d34-4164-4efc-f529-4893c782bfac"
   },
   "outputs": [
    {
     "data": {
      "text/plain": [
       "(16000, 6)"
      ]
     },
     "execution_count": 49,
     "metadata": {},
     "output_type": "execute_result"
    }
   ],
   "source": [
    "train_vectorizer_mood=vectorizer_mood.transform(train_data1[\"mood\"].values)\n",
    "train_vectorizer_mood.shape"
   ]
  },
  {
   "cell_type": "code",
   "execution_count": 50,
   "metadata": {
    "id": "J7R_fnL5-HiJ"
   },
   "outputs": [],
   "source": [
    "val_vectorizer_mood=vectorizer_mood.transform(val_data1[\"mood\"].values)\n",
    "test_vectorizer_mood=vectorizer_mood.transform(test_data1[\"mood\"].values)"
   ]
  },
  {
   "cell_type": "code",
   "execution_count": 51,
   "metadata": {
    "colab": {
     "base_uri": "https://localhost:8080/"
    },
    "id": "wV9MgFXh-4Jq",
    "outputId": "2d3552eb-623c-47d6-a57f-9853b1dcad1a"
   },
   "outputs": [
    {
     "name": "stdout",
     "output_type": "stream",
     "text": [
      "(2000, 6)\n",
      "******\n",
      "(2000, 6)\n"
     ]
    }
   ],
   "source": [
    "print(val_vectorizer_mood.shape)\n",
    "print(\"******\")\n",
    "print(test_vectorizer_mood.shape)"
   ]
  },
  {
   "cell_type": "code",
   "execution_count": 88,
   "metadata": {
    "colab": {
     "base_uri": "https://localhost:8080/"
    },
    "id": "fp0BnCYP9m-O",
    "outputId": "4ea4cc20-12ec-405c-cdf1-565603dc77e8"
   },
   "outputs": [
    {
     "data": {
      "text/plain": [
       "(16000, 58)"
      ]
     },
     "execution_count": 88,
     "metadata": {},
     "output_type": "execute_result"
    }
   ],
   "source": [
    "from scipy.sparse import hstack\n",
    "X_tr=hstack((x_train_padded,train_vectorizer_mood)).todense()\n",
    "X_tr.shape"
   ]
  },
  {
   "cell_type": "code",
   "execution_count": 89,
   "metadata": {
    "colab": {
     "base_uri": "https://localhost:8080/"
    },
    "id": "KGsGk1x79nBp",
    "outputId": "a6277cc3-1249-4302-8124-e339d98510a4"
   },
   "outputs": [
    {
     "name": "stdout",
     "output_type": "stream",
     "text": [
      "(2000, 58)\n",
      "******\n",
      "(2000, 58)\n"
     ]
    }
   ],
   "source": [
    "X_val=hstack((x_val_padded,val_vectorizer_mood)).todense()\n",
    "print(X_val.shape)\n",
    "print(\"******\")\n",
    "X_test=hstack((x_test_padded,test_vectorizer_mood)).todense()\n",
    "print(X_test.shape)"
   ]
  },
  {
   "cell_type": "code",
   "execution_count": 90,
   "metadata": {
    "id": "YuF2JW3qDivH"
   },
   "outputs": [],
   "source": [
    "from keras import models\n",
    "from keras import layers\n",
    "model = models.Sequential()\n",
    "model.add(layers.Dense(32, activation='relu'))\n",
    "model.add(layers.Dense(64, activation='relu'))\n",
    "model.add(layers.Dense(1, activation='sigmoid'))"
   ]
  },
  {
   "cell_type": "code",
   "execution_count": 91,
   "metadata": {
    "id": "-Q-ZKgwJDi0v"
   },
   "outputs": [],
   "source": [
    "model.compile(optimizer='rmsprop',\n",
    "loss='binary_crossentropy',\n",
    "metrics=['accuracy'])"
   ]
  },
  {
   "cell_type": "code",
   "execution_count": 92,
   "metadata": {
    "colab": {
     "base_uri": "https://localhost:8080/"
    },
    "id": "78AahvSyS2K8",
    "outputId": "4d24fdaf-5981-41bd-dcc5-1e42eed15bf4"
   },
   "outputs": [
    {
     "name": "stdout",
     "output_type": "stream",
     "text": [
      "<class 'numpy.matrix'>\n"
     ]
    }
   ],
   "source": [
    "print(type(X_tr))"
   ]
  },
  {
   "cell_type": "code",
   "execution_count": 93,
   "metadata": {
    "id": "0Su0JN5ZTqaO"
   },
   "outputs": [],
   "source": [
    "y_train=pd.DataFrame(train_labels)\n",
    "y_val=pd.DataFrame(val_labels)\n",
    "y_test=pd.DataFrame(test_labels)"
   ]
  },
  {
   "cell_type": "code",
   "execution_count": 94,
   "metadata": {
    "colab": {
     "base_uri": "https://localhost:8080/"
    },
    "id": "Pcu26xcPSMJT",
    "outputId": "8245b4f6-a5b0-470d-da35-ab2094cbadc1"
   },
   "outputs": [
    {
     "name": "stdout",
     "output_type": "stream",
     "text": [
      "Epoch 1/50\n",
      "500/500 [==============================] - 2s 2ms/step - loss: 26.9474 - accuracy: 0.7832 - val_loss: 13.4447 - val_accuracy: 0.8205\n",
      "Epoch 2/50\n",
      "500/500 [==============================] - 1s 2ms/step - loss: 11.7306 - accuracy: 0.7842 - val_loss: 9.5009 - val_accuracy: 0.8415\n",
      "Epoch 3/50\n",
      "500/500 [==============================] - 1s 2ms/step - loss: 7.4295 - accuracy: 0.7972 - val_loss: 6.4345 - val_accuracy: 0.8280\n",
      "Epoch 4/50\n",
      "500/500 [==============================] - 1s 2ms/step - loss: 5.1776 - accuracy: 0.8015 - val_loss: 4.4231 - val_accuracy: 0.7915\n",
      "Epoch 5/50\n",
      "500/500 [==============================] - 1s 2ms/step - loss: 3.6769 - accuracy: 0.8124 - val_loss: 4.2532 - val_accuracy: 0.8525\n",
      "Epoch 6/50\n",
      "500/500 [==============================] - 1s 2ms/step - loss: 2.7754 - accuracy: 0.8127 - val_loss: 2.9318 - val_accuracy: 0.8450\n",
      "Epoch 7/50\n",
      "500/500 [==============================] - 1s 2ms/step - loss: 2.0696 - accuracy: 0.8201 - val_loss: 2.0623 - val_accuracy: 0.7835\n",
      "Epoch 8/50\n",
      "500/500 [==============================] - 1s 2ms/step - loss: 1.5250 - accuracy: 0.8327 - val_loss: 1.6858 - val_accuracy: 0.8395\n",
      "Epoch 9/50\n",
      "500/500 [==============================] - 1s 2ms/step - loss: 1.1162 - accuracy: 0.8419 - val_loss: 1.3569 - val_accuracy: 0.8540\n",
      "Epoch 10/50\n",
      "500/500 [==============================] - 1s 2ms/step - loss: 0.8575 - accuracy: 0.8538 - val_loss: 1.0662 - val_accuracy: 0.8315\n",
      "Epoch 11/50\n",
      "500/500 [==============================] - 1s 2ms/step - loss: 0.6837 - accuracy: 0.8634 - val_loss: 0.8489 - val_accuracy: 0.8610\n",
      "Epoch 12/50\n",
      "500/500 [==============================] - 1s 2ms/step - loss: 0.5935 - accuracy: 0.8687 - val_loss: 0.7627 - val_accuracy: 0.8665\n",
      "Epoch 13/50\n",
      "500/500 [==============================] - 1s 2ms/step - loss: 0.5215 - accuracy: 0.8717 - val_loss: 0.5946 - val_accuracy: 0.8630\n",
      "Epoch 14/50\n",
      "500/500 [==============================] - 1s 2ms/step - loss: 0.4773 - accuracy: 0.8736 - val_loss: 0.6068 - val_accuracy: 0.8660\n",
      "Epoch 15/50\n",
      "500/500 [==============================] - 1s 2ms/step - loss: 0.4566 - accuracy: 0.8746 - val_loss: 0.5673 - val_accuracy: 0.8625\n",
      "Epoch 16/50\n",
      "500/500 [==============================] - 1s 2ms/step - loss: 0.4434 - accuracy: 0.8757 - val_loss: 0.5980 - val_accuracy: 0.8660\n",
      "Epoch 17/50\n",
      "500/500 [==============================] - 1s 2ms/step - loss: 0.4428 - accuracy: 0.8765 - val_loss: 0.6120 - val_accuracy: 0.8705\n",
      "Epoch 18/50\n",
      "500/500 [==============================] - 1s 2ms/step - loss: 0.4287 - accuracy: 0.8760 - val_loss: 0.5236 - val_accuracy: 0.8630\n",
      "Epoch 19/50\n",
      "500/500 [==============================] - 1s 2ms/step - loss: 0.4301 - accuracy: 0.8760 - val_loss: 0.5170 - val_accuracy: 0.8660\n",
      "Epoch 20/50\n",
      "500/500 [==============================] - 1s 2ms/step - loss: 0.4183 - accuracy: 0.8768 - val_loss: 0.5281 - val_accuracy: 0.8705\n",
      "Epoch 21/50\n",
      "500/500 [==============================] - 1s 2ms/step - loss: 0.4180 - accuracy: 0.8767 - val_loss: 0.4849 - val_accuracy: 0.8670\n",
      "Epoch 22/50\n",
      "500/500 [==============================] - 1s 2ms/step - loss: 0.4186 - accuracy: 0.8774 - val_loss: 0.4725 - val_accuracy: 0.8540\n",
      "Epoch 23/50\n",
      "500/500 [==============================] - 1s 2ms/step - loss: 0.4092 - accuracy: 0.8779 - val_loss: 0.4430 - val_accuracy: 0.8700\n",
      "Epoch 24/50\n",
      "500/500 [==============================] - 1s 2ms/step - loss: 0.3977 - accuracy: 0.8788 - val_loss: 0.4140 - val_accuracy: 0.8690\n",
      "Epoch 25/50\n",
      "500/500 [==============================] - 1s 2ms/step - loss: 0.3914 - accuracy: 0.8794 - val_loss: 0.4162 - val_accuracy: 0.8705\n",
      "Epoch 26/50\n",
      "500/500 [==============================] - 1s 2ms/step - loss: 0.3856 - accuracy: 0.8790 - val_loss: 0.4020 - val_accuracy: 0.8695\n",
      "Epoch 27/50\n",
      "500/500 [==============================] - 1s 2ms/step - loss: 0.3860 - accuracy: 0.8794 - val_loss: 0.4269 - val_accuracy: 0.8705\n",
      "Epoch 28/50\n",
      "500/500 [==============================] - 1s 2ms/step - loss: 0.3869 - accuracy: 0.8788 - val_loss: 0.3972 - val_accuracy: 0.8690\n",
      "Epoch 29/50\n",
      "500/500 [==============================] - 1s 2ms/step - loss: 0.3832 - accuracy: 0.8801 - val_loss: 0.4061 - val_accuracy: 0.8680\n",
      "Epoch 30/50\n",
      "500/500 [==============================] - 1s 2ms/step - loss: 0.3871 - accuracy: 0.8801 - val_loss: 0.4385 - val_accuracy: 0.8700\n",
      "Epoch 31/50\n",
      "500/500 [==============================] - 1s 2ms/step - loss: 0.3892 - accuracy: 0.8801 - val_loss: 0.4057 - val_accuracy: 0.8675\n",
      "Epoch 32/50\n",
      "500/500 [==============================] - 1s 2ms/step - loss: 0.3865 - accuracy: 0.8806 - val_loss: 0.4019 - val_accuracy: 0.8695\n",
      "Epoch 33/50\n",
      "500/500 [==============================] - 1s 2ms/step - loss: 0.3861 - accuracy: 0.8805 - val_loss: 0.4164 - val_accuracy: 0.8620\n",
      "Epoch 34/50\n",
      "500/500 [==============================] - 1s 2ms/step - loss: 0.3861 - accuracy: 0.8803 - val_loss: 0.4222 - val_accuracy: 0.8695\n",
      "Epoch 35/50\n",
      "500/500 [==============================] - 1s 2ms/step - loss: 0.3864 - accuracy: 0.8814 - val_loss: 0.3998 - val_accuracy: 0.8700\n",
      "Epoch 36/50\n",
      "500/500 [==============================] - 1s 2ms/step - loss: 0.3919 - accuracy: 0.8813 - val_loss: 0.4172 - val_accuracy: 0.8705\n",
      "Epoch 37/50\n",
      "500/500 [==============================] - 1s 2ms/step - loss: 0.3850 - accuracy: 0.8808 - val_loss: 0.4650 - val_accuracy: 0.8700\n",
      "Epoch 38/50\n",
      "500/500 [==============================] - 1s 2ms/step - loss: 0.3919 - accuracy: 0.8812 - val_loss: 0.4454 - val_accuracy: 0.8640\n",
      "Epoch 39/50\n",
      "500/500 [==============================] - 1s 2ms/step - loss: 0.3978 - accuracy: 0.8813 - val_loss: 0.4099 - val_accuracy: 0.8615\n",
      "Epoch 40/50\n",
      "500/500 [==============================] - 1s 2ms/step - loss: 0.3910 - accuracy: 0.8812 - val_loss: 0.4416 - val_accuracy: 0.8620\n",
      "Epoch 41/50\n",
      "500/500 [==============================] - 1s 2ms/step - loss: 0.3997 - accuracy: 0.8807 - val_loss: 0.4848 - val_accuracy: 0.8700\n",
      "Epoch 42/50\n",
      "500/500 [==============================] - 1s 2ms/step - loss: 0.4039 - accuracy: 0.8811 - val_loss: 0.4702 - val_accuracy: 0.8700\n",
      "Epoch 43/50\n",
      "500/500 [==============================] - 1s 2ms/step - loss: 0.4025 - accuracy: 0.8813 - val_loss: 0.4512 - val_accuracy: 0.8695\n",
      "Epoch 44/50\n",
      "500/500 [==============================] - 1s 2ms/step - loss: 0.3967 - accuracy: 0.8810 - val_loss: 0.4761 - val_accuracy: 0.8700\n",
      "Epoch 45/50\n",
      "500/500 [==============================] - 1s 2ms/step - loss: 0.3931 - accuracy: 0.8811 - val_loss: 0.4873 - val_accuracy: 0.8690\n",
      "Epoch 46/50\n",
      "500/500 [==============================] - 1s 2ms/step - loss: 0.4029 - accuracy: 0.8813 - val_loss: 0.4640 - val_accuracy: 0.8690\n",
      "Epoch 47/50\n",
      "500/500 [==============================] - 1s 2ms/step - loss: 0.4017 - accuracy: 0.8811 - val_loss: 0.4899 - val_accuracy: 0.8700\n",
      "Epoch 48/50\n",
      "500/500 [==============================] - 1s 2ms/step - loss: 0.4003 - accuracy: 0.8814 - val_loss: 0.5142 - val_accuracy: 0.8700\n",
      "Epoch 49/50\n",
      "500/500 [==============================] - 1s 2ms/step - loss: 0.3943 - accuracy: 0.8814 - val_loss: 0.4358 - val_accuracy: 0.8695\n",
      "Epoch 50/50\n",
      "500/500 [==============================] - 1s 2ms/step - loss: 0.3923 - accuracy: 0.8811 - val_loss: 0.5535 - val_accuracy: 0.8705\n"
     ]
    }
   ],
   "source": [
    "history = model.fit(X_tr,y_train,epochs=50,batch_size=32,validation_data=(X_val,y_val))"
   ]
  },
  {
   "cell_type": "code",
   "execution_count": 97,
   "metadata": {
    "colab": {
     "base_uri": "https://localhost:8080/"
    },
    "id": "CeNsoiQvUeAR",
    "outputId": "811f5de7-4887-4670-fea8-d5ceaff0a625"
   },
   "outputs": [
    {
     "name": "stdout",
     "output_type": "stream",
     "text": [
      "63/63 [==============================] - 0s 1ms/step - loss: 0.4730 - accuracy: 0.8880\n"
     ]
    },
    {
     "data": {
      "text/plain": [
       "[0.4730384647846222, 0.8880000114440918]"
      ]
     },
     "execution_count": 97,
     "metadata": {},
     "output_type": "execute_result"
    }
   ],
   "source": [
    "results = model.evaluate(X_test, y_test)\n",
    "results"
   ]
  }
 ],
 "metadata": {
  "colab": {
   "collapsed_sections": [],
   "name": "doodly0.ipynb",
   "provenance": []
  },
  "kernelspec": {
   "display_name": "Python 3",
   "language": "python",
   "name": "python3"
  },
  "language_info": {
   "codemirror_mode": {
    "name": "ipython",
    "version": 3
   },
   "file_extension": ".py",
   "mimetype": "text/x-python",
   "name": "python",
   "nbconvert_exporter": "python",
   "pygments_lexer": "ipython3",
   "version": "3.7.0"
  }
 },
 "nbformat": 4,
 "nbformat_minor": 1
}
